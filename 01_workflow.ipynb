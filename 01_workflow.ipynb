{
 "cells": [
  {
   "cell_type": "code",
   "execution_count": null,
   "metadata": {},
   "outputs": [],
   "source": [
    "import torch\n",
    "from torch import nn\n",
    "import pandas as pd\n",
    "import numpy as np\n",
    "import matplotlib.pyplot as plt\n",
    "\n",
    "print(f\"Is CUDA supported by this system? {torch.cuda.is_available()}\")\n",
    "print(f\"CUDA version: {torch.version.cuda}\")\n",
    "  \n",
    "# Storing ID of current CUDA device\n",
    "cuda_id = torch.cuda.current_device()\n",
    "print(f\"ID of current CUDA device: {torch.cuda.current_device()}\")\n",
    "        \n",
    "print(f\"Name of current CUDA device: {torch.cuda.get_device_name(cuda_id)}\")\n",
    "\n",
    "!nvidia-smi\n",
    "device = \"cpu\"\n",
    "\n",
    "if torch.cuda.is_available():\n",
    "  device = \"cuda\"\n",
    "elif torch.backends.mps.is_available():\n",
    "  device = \"mps\"\n",
    "\n",
    "# device = \"cuda\"\n",
    "device"
   ]
  },
  {
   "cell_type": "code",
   "execution_count": 5,
   "metadata": {},
   "outputs": [],
   "source": [
    "def plot_predictions(\n",
    "    train_data,\n",
    "    train_labels,\n",
    "    test_data,\n",
    "    test_labels,\n",
    "    predictions=None,\n",
    "):\n",
    "\n",
    "    fig = plt.figure(figsize=(10, 7))\n",
    "    fig.patch.set_alpha(1.0)\n",
    "\n",
    "    plt.scatter(train_data, train_labels, c=\"b\", s=4, label=\"Training data\")\n",
    "    plt.scatter(test_data, test_labels, c=\"g\", s=4, label=\"Testing data\")\n",
    "\n",
    "    if predictions is not None:\n",
    "        plt.scatter(test_data, predictions, c=\"r\", s=4, label=f\"Predictions\")\n",
    "\n",
    "    plt.legend(prop={\"size\": 14})"
   ]
  },
  {
   "cell_type": "code",
   "execution_count": 9,
   "metadata": {},
   "outputs": [
    {
     "name": "stdout",
     "output_type": "stream",
     "text": [
      "[Parameter containing:\n",
      "tensor([[0.7645]], requires_grad=True), Parameter containing:\n",
      "tensor([0.8300], requires_grad=True)]\n",
      "OrderedDict([('linear_layer.weight', tensor([[0.7645]])), ('linear_layer.bias', tensor([0.8300]))])\n"
     ]
    }
   ],
   "source": [
    "class LinearRegressionModelV2(nn.Module):\n",
    "    def __init__(self) -> None:\n",
    "        super().__init__()\n",
    "        self.linear_layer = nn.Linear(in_features=1, out_features=1)\n",
    "    \n",
    "    def forward(self, x: torch.Tensor) -> torch.Tensor:\n",
    "        return self.linear_layer(x)\n",
    "\n",
    "# Initialize with random seed\n",
    "torch.manual_seed(42)\n",
    "\n",
    "model_1 = LinearRegressionModelV2()\n",
    "\n",
    "print(list(model_1.parameters()))\n",
    "\n",
    "print(model_1.state_dict())\n",
    "\n",
    "# model_1.to(device)\n",
    "# next(model_1.parameters()).is_cuda\n",
    "loss_fn = nn.L1Loss()\n",
    "\n",
    "optimizer = torch.optim.SGD(params=model_1.parameters(), lr=0.01)"
   ]
  },
  {
   "cell_type": "code",
   "execution_count": 17,
   "metadata": {},
   "outputs": [
    {
     "data": {
      "image/png": "[encoded data removed]",
      "text/plain": [
       "<Figure size 1000x700 with 1 Axes>"
      ]
     },
     "metadata": {},
     "output_type": "display_data"
    }
   ],
   "source": [
    "device = \"cpu\" # Small dataset is faster on CPU\n",
    "\n",
    "# Create known parameters\n",
    "weight = 0.7\n",
    "bias = 0.3\n",
    "\n",
    "# Create learning model\n",
    "start = 0\n",
    "end = 1\n",
    "step = 0.01\n",
    "X = torch.arange(start, end, step).unsqueeze(dim=1)\n",
    "y = weight * X + bias\n",
    "\n",
    "# Train/test split\n",
    "train_split = int(0.8 * len(X))\n",
    "X_train, y_train = X[:train_split], y[:train_split]\n",
    "X_test, y_test = X[train_split:], y[train_split:]\n",
    "\n",
    "# Send all data to device\n",
    "model_1.to(device)\n",
    "X_train = X_train.to(device)\n",
    "y_train = y_train.to(device)\n",
    "X_test = X_test.to(device)\n",
    "y_test = y_test.to(device)\n",
    "\n",
    "# Train\n",
    "epochs = 10000\n",
    "\n",
    "losses = []\n",
    "\n",
    "for epoch in range(epochs):\n",
    "\n",
    "    # Set model to training mode\n",
    "    model_1.train()\n",
    "\n",
    "    # Forward pass\n",
    "    y_pred = model_1(X_train)\n",
    "\n",
    "    # Calculate loss\n",
    "    loss = loss_fn(y_pred, y_train)\n",
    "     \n",
    "    loss_corrected = loss if device == \"cpu\" else loss.cpu()\n",
    "\n",
    "    losses.append(loss_corrected.detach().numpy())\n",
    "\n",
    "    # Optimizer zero grad\n",
    "    # Make optimizer's gradient to be zero so as to not accumulate gradient\n",
    "    # in each loop\n",
    "    optimizer.zero_grad()\n",
    "\n",
    "    # Perform backpropagation\n",
    "    loss.backward()\n",
    "\n",
    "    # Perform gradient descent\n",
    "    optimizer.step()\n",
    "\n",
    "    model_1.eval()\n",
    "\n",
    "# Inference after training\n",
    "with torch.inference_mode():\n",
    "    predictions = model_1(X_test)\n",
    "\n",
    "plot_predictions(\n",
    "    train_data=X_train.cpu(),\n",
    "    train_labels=y_train.cpu(),\n",
    "    test_data=X_test.cpu(),\n",
    "    test_labels=y_test.cpu(),\n",
    "    predictions=predictions.cpu(),\n",
    ")"
   ]
  }
 ],
 "metadata": {
  "kernelspec": {
   "display_name": "Python 3.10.6 ('ztm')",
   "language": "python",
   "name": "python3"
  },
  "language_info": {
   "codemirror_mode": {
    "name": "ipython",
    "version": 3
   },
   "file_extension": ".py",
   "mimetype": "text/x-python",
   "name": "python",
   "nbconvert_exporter": "python",
   "pygments_lexer": "ipython3",
   "version": "3.10.6"
  },
  "orig_nbformat": 4,
  "vscode": {
   "interpreter": {
    "hash": "d4cbc5aa0308647abe0b792efb308e8b90839188e246fb180afea3871a8bec81"
   }
  }
 },
 "nbformat": 4,
 "nbformat_minor": 2
}
